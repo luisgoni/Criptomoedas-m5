{
  "nbformat": 4,
  "nbformat_minor": 0,
  "metadata": {
    "colab": {
      "provenance": [],
      "authorship_tag": "ABX9TyMcFE2N4OUU3TkQ9Sg8ZenE",
      "include_colab_link": true
    },
    "kernelspec": {
      "name": "python3",
      "display_name": "Python 3"
    },
    "language_info": {
      "name": "python"
    }
  },
  "cells": [
    {
      "cell_type": "markdown",
      "metadata": {
        "id": "view-in-github",
        "colab_type": "text"
      },
      "source": [
        "<a href=\"https://colab.research.google.com/github/mathuscm/Criptomoedas-m5/blob/main/Projeto_Cryptomoedas_5_Qual_Criptomoeda_se_mostra_MAIS_interessante.ipynb\" target=\"_parent\"><img src=\"https://colab.research.google.com/assets/colab-badge.svg\" alt=\"Open In Colab\"/></a>"
      ]
    },
    {
      "cell_type": "markdown",
      "source": [
        "# 5. Qual Criptomoeda se mostra MAIS interessante em relação à valorização pela análise da série histórica?"
      ],
      "metadata": {
        "id": "DsdDp1TbaytR"
      }
    },
    {
      "cell_type": "code",
      "source": [
        "import pandas as pd\n",
        "import matplotlib.pyplot as plt\n",
        "\n",
        "# Dicionário para armazenar os DataFrames de cada moeda\n",
        "moedas = {\n",
        "    'Aave': 'https://raw.githubusercontent.com/mathuscm/Criptomoedas-m5/main/ArquivosCrypto/coin_Aave.csv',\n",
        "    'BinanceCoin': 'https://raw.githubusercontent.com/mathuscm/Criptomoedas-m5/main/ArquivosCrypto/coin_BinanceCoin.csv',\n",
        "    'Bitcoin': 'https://raw.githubusercontent.com/mathuscm/Criptomoedas-m5/main/ArquivosCrypto/coin_Bitcoin.csv',\n",
        "    'Chainlink': 'https://raw.githubusercontent.com/mathuscm/Criptomoedas-m5/main/ArquivosCrypto/coin_ChainLink.csv',\n",
        "    'Cosmos': 'https://raw.githubusercontent.com/mathuscm/Criptomoedas-m5/main/ArquivosCrypto/coin_Cosmos.csv',\n",
        "    'EOS': 'https://raw.githubusercontent.com/mathuscm/Criptomoedas-m5/main/ArquivosCrypto/coin_EOS.csv',\n",
        "    'Ethereum': 'https://raw.githubusercontent.com/mathuscm/Criptomoedas-m5/main/ArquivosCrypto/coin_Ethereum.csv',\n",
        "    'Polkadot': 'https://raw.githubusercontent.com/mathuscm/Criptomoedas-m5/main/ArquivosCrypto/coin_Polkadot.csv',\n",
        "    'USDCoin': 'https://raw.githubusercontent.com/mathuscm/Criptomoedas-m5/main/ArquivosCrypto/coin_USDCoin.csv',\n",
        "    'XRP': 'https://raw.githubusercontent.com/mathuscm/Criptomoedas-m5/main/ArquivosCrypto/coin_XRP.csv'\n",
        "}\n",
        "\n",
        "# Cálculo da tendência de valorização média para cada moeda\n",
        "valorizacao_media = {}\n",
        "\n",
        "for moeda, url in moedas.items():\n",
        "    df = pd.read_csv(url)\n",
        "    df['Valorizacao Diaria (%)'] = ((df['Close'] - df['Open']) / df['Open']) * 100\n",
        "    valorizacao_media[moeda] = df['Valorizacao Diaria (%)'].mean()\n",
        "\n",
        "# Encontrando a moeda com a maior valorização média\n",
        "moeda_mais_valorizada = max(valorizacao_media, key=valorizacao_media.get)\n",
        "valor_mais_alto = valorizacao_media[moeda_mais_valorizada]\n",
        "\n",
        "# Ordenei as moedas do maior para o menor valor médio\n",
        "moedas_ordenadas = sorted(valorizacao_media.keys(), key=lambda x: valorizacao_media[x], reverse=True)\n",
        "valores_ordenados = [valorizacao_media[moeda] for moeda in moedas_ordenadas]\n",
        "\n",
        "# Defini cores, destacando a cor verde para a moeda com maior valorização média\n",
        "cores = ['green' if moeda == moeda_mais_valorizada else 'blue' for moeda in moedas_ordenadas]\n",
        "\n",
        "# Gráfico de barras\n",
        "plt.figure(figsize=(12, 6))\n",
        "bars = plt.bar(moedas_ordenadas, valores_ordenados, color=cores)\n",
        "\n",
        "# Adicionei um texto destacando o valor acima de cada barra para melhor compreensão\n",
        "for bar in bars:\n",
        "    height = bar.get_height()\n",
        "    plt.annotate(f'{height:.2f}%', (bar.get_x() + bar.get_width() / 2, height),\n",
        "                 ha='center', va='bottom', fontsize=10, color='black')\n",
        "\n",
        "plt.xlabel('Moeda')\n",
        "plt.ylabel('Valorizacao Media Diaria (%)')\n",
        "plt.title('Valorizacao Media Diaria das Criptomoedas (Maior Destacado em Verde)')\n",
        "plt.xticks(rotation=45)\n",
        "plt.tight_layout()\n",
        "plt.show()"
      ],
      "metadata": {
        "id": "mU3X3uwQazVI"
      },
      "execution_count": null,
      "outputs": []
    }
  ]
}